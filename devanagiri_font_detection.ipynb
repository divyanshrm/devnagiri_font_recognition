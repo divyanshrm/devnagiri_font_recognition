{
 "cells": [
  {
   "cell_type": "code",
   "execution_count": 1,
   "metadata": {},
   "outputs": [],
   "source": [
    "import tensorflow as tf\n",
    "import numpy as np\n",
    "import pandas as pd\n",
    "import cv2\n",
    "import matplotlib.pyplot as mtb"
   ]
  },
  {
   "cell_type": "code",
   "execution_count": 2,
   "metadata": {},
   "outputs": [],
   "source": [
    "#importing the dataset using image data generator-Also Augmenting the Data"
   ]
  },
  {
   "cell_type": "code",
   "execution_count": 3,
   "metadata": {},
   "outputs": [],
   "source": [
    "from tensorflow.keras.preprocessing.image import ImageDataGenerator\n",
    "data=ImageDataGenerator(featurewise_center=False,\n",
    "    samplewise_center=False,\n",
    "    featurewise_std_normalization=False,\n",
    "    samplewise_std_normalization=False,\n",
    "    zca_whitening=False,\n",
    "    zca_epsilon=1e-06,\n",
    "    rotation_range=20,\n",
    "    width_shift_range=0.2,\n",
    "    height_shift_range=0.2,\n",
    "    brightness_range=[0.5,1.0],\n",
    "    shear_range=0.2,\n",
    "    zoom_range=0.2,\n",
    "    channel_shift_range=0.0,\n",
    "    fill_mode='nearest',\n",
    "    cval=0.0,\n",
    "    horizontal_flip=False,\n",
    "    vertical_flip=True,\n",
    "    rescale=1./255,\n",
    "    preprocessing_function=None,\n",
    "    data_format=None,\n",
    "    validation_split=0.01,\n",
    "    dtype=None)"
   ]
  },
  {
   "cell_type": "code",
   "execution_count": 4,
   "metadata": {},
   "outputs": [
    {
     "name": "stdout",
     "output_type": "stream",
     "text": [
      "Found 91080 images belonging to 46 classes.\n",
      "Found 920 images belonging to 46 classes.\n"
     ]
    }
   ],
   "source": [
    "training=data.flow_from_directory('D:\\devnagiri project\\Images\\Images',target_size=(32,32),color_mode='rgb',\n",
    "    classes=None,\n",
    "    class_mode='sparse',\n",
    "    batch_size=64,\n",
    "    shuffle=True,\n",
    "    seed=None,\n",
    "    save_to_dir=None,\n",
    "    save_prefix='',\n",
    "    save_format='png',\n",
    "    follow_links=False,\n",
    "    subset='training',\n",
    "    interpolation='nearest')\n",
    "testing=data.flow_from_directory('D:\\devnagiri project\\Images\\Images',target_size=(32,32),color_mode='rgb',\n",
    "    classes=None,\n",
    "    class_mode='sparse',\n",
    "    batch_size=64,\n",
    "    shuffle=True,\n",
    "    seed=None,\n",
    "    save_to_dir=None,\n",
    "    save_prefix='',\n",
    "    save_format='png',\n",
    "    follow_links=False,\n",
    "    subset='validation',\n",
    "    interpolation='nearest')"
   ]
  },
  {
   "cell_type": "code",
   "execution_count": 5,
   "metadata": {},
   "outputs": [
    {
     "name": "stdout",
     "output_type": "stream",
     "text": [
      "WARNING:tensorflow:Sequential models without an `input_shape` passed to the first layer cannot reload their optimizer state. As a result, your model isstarting with a freshly initialized optimizer.\n"
     ]
    }
   ],
   "source": [
    "model=tf.keras.models.load_model(\"model.h5\")\n"
   ]
  },
  {
   "cell_type": "code",
   "execution_count": 21,
   "metadata": {},
   "outputs": [],
   "source": [
    "model=tf.keras.models.Sequential()\n",
    "model.add(tf.keras.layers.Input(shape=(32,32,1)))"
   ]
  },
  {
   "cell_type": "code",
   "execution_count": 22,
   "metadata": {},
   "outputs": [],
   "source": [
    "model.add(tf.keras.layers.Conv2D(64,(3,3),activation='relu'))"
   ]
  },
  {
   "cell_type": "code",
   "execution_count": 23,
   "metadata": {},
   "outputs": [],
   "source": [
    "model.add(tf.keras.layers.MaxPool2D((3,3)))"
   ]
  },
  {
   "cell_type": "code",
   "execution_count": 24,
   "metadata": {},
   "outputs": [],
   "source": [
    "model.add(tf.keras.layers.Conv2D(64,(3,3),activation='relu'))"
   ]
  },
  {
   "cell_type": "code",
   "execution_count": 25,
   "metadata": {},
   "outputs": [],
   "source": [
    "model.add(tf.keras.layers.MaxPool2D((3,3)))"
   ]
  },
  {
   "cell_type": "code",
   "execution_count": 26,
   "metadata": {},
   "outputs": [],
   "source": [
    "model.add(tf.keras.layers.Flatten())\n",
    "model.add(tf.keras.layers.Dense(4096,activation='relu'))\n",
    "model.add(tf.keras.layers.Dense(4096,activation='relu'),)"
   ]
  },
  {
   "cell_type": "code",
   "execution_count": 27,
   "metadata": {},
   "outputs": [],
   "source": [
    "model.add(tf.keras.layers.Dense(46,activation='softmax'))"
   ]
  },
  {
   "cell_type": "code",
   "execution_count": 20,
   "metadata": {},
   "outputs": [],
   "source": [
    "opt=tf.keras.optimizers.Adam(lr=0.00001)"
   ]
  },
  {
   "cell_type": "code",
   "execution_count": 21,
   "metadata": {},
   "outputs": [],
   "source": [
    "model.compile(optimizer=opt,loss=tf.keras.losses.sparse_categorical_crossentropy,metrics=['accuracy'])"
   ]
  },
  {
   "cell_type": "code",
   "execution_count": 9,
   "metadata": {},
   "outputs": [
    {
     "name": "stdout",
     "output_type": "stream",
     "text": [
      "Epoch 1/50\n",
      "100/100 [==============================] - 11s 108ms/step - loss: 0.3074 - accuracy: 0.9010 - val_loss: 0.3803 - val_accuracy: 0.8709\n",
      "Epoch 2/50\n",
      "100/100 [==============================] - 10s 105ms/step - loss: 0.3160 - accuracy: 0.9017 - val_loss: 0.3456 - val_accuracy: 0.8750\n",
      "Epoch 3/50\n",
      "100/100 [==============================] - 11s 109ms/step - loss: 0.2789 - accuracy: 0.9087 - val_loss: 0.3713 - val_accuracy: 0.8780\n",
      "Epoch 4/50\n",
      "100/100 [==============================] - 11s 111ms/step - loss: 0.3194 - accuracy: 0.8963 - val_loss: 0.3533 - val_accuracy: 0.8801\n",
      "Epoch 5/50\n",
      "100/100 [==============================] - 11s 111ms/step - loss: 0.2980 - accuracy: 0.9039 - val_loss: 0.3471 - val_accuracy: 0.8780\n",
      "Epoch 6/50\n",
      "100/100 [==============================] - 11s 110ms/step - loss: 0.2986 - accuracy: 0.9008 - val_loss: 0.3563 - val_accuracy: 0.8720\n",
      "Epoch 7/50\n",
      "100/100 [==============================] - 11s 114ms/step - loss: 0.3165 - accuracy: 0.9013 - val_loss: 0.3585 - val_accuracy: 0.8913\n",
      "Epoch 8/50\n",
      "100/100 [==============================] - 11s 111ms/step - loss: 0.2945 - accuracy: 0.9020 - val_loss: 0.4068 - val_accuracy: 0.8720\n",
      "Epoch 9/50\n",
      "100/100 [==============================] - 11s 112ms/step - loss: 0.2996 - accuracy: 0.9019 - val_loss: 0.3882 - val_accuracy: 0.8689\n",
      "Epoch 10/50\n",
      "100/100 [==============================] - 11s 110ms/step - loss: 0.2917 - accuracy: 0.9073 - val_loss: 0.3661 - val_accuracy: 0.8791\n",
      "Epoch 11/50\n",
      "100/100 [==============================] - 11s 110ms/step - loss: 0.3015 - accuracy: 0.9027 - val_loss: 0.3908 - val_accuracy: 0.8709\n",
      "Epoch 12/50\n",
      "100/100 [==============================] - 12s 116ms/step - loss: 0.2949 - accuracy: 0.9048 - val_loss: 0.3264 - val_accuracy: 0.8821\n",
      "Epoch 13/50\n",
      "100/100 [==============================] - 12s 123ms/step - loss: 0.2932 - accuracy: 0.9055 - val_loss: 0.3629 - val_accuracy: 0.8740\n",
      "Epoch 14/50\n",
      "100/100 [==============================] - 12s 117ms/step - loss: 0.3003 - accuracy: 0.9005 - val_loss: 0.4047 - val_accuracy: 0.8679\n",
      "Epoch 15/50\n",
      "100/100 [==============================] - 10s 102ms/step - loss: 0.2922 - accuracy: 0.9061 - val_loss: 0.3439 - val_accuracy: 0.8821\n",
      "Epoch 16/50\n",
      "100/100 [==============================] - 10s 101ms/step - loss: 0.3035 - accuracy: 0.9078 - val_loss: 0.4034 - val_accuracy: 0.8709\n",
      "Epoch 17/50\n",
      "100/100 [==============================] - 10s 102ms/step - loss: 0.2859 - accuracy: 0.9056 - val_loss: 0.3967 - val_accuracy: 0.8730\n",
      "Epoch 18/50\n",
      "100/100 [==============================] - 10s 101ms/step - loss: 0.2867 - accuracy: 0.9075 - val_loss: 0.3720 - val_accuracy: 0.8709\n",
      "Epoch 19/50\n",
      "100/100 [==============================] - 10s 105ms/step - loss: 0.2895 - accuracy: 0.9041 - val_loss: 0.3889 - val_accuracy: 0.8648\n",
      "Epoch 20/50\n",
      "100/100 [==============================] - 12s 119ms/step - loss: 0.2890 - accuracy: 0.9084 - val_loss: 0.3813 - val_accuracy: 0.8750\n",
      "Epoch 21/50\n",
      "100/100 [==============================] - 13s 128ms/step - loss: 0.3133 - accuracy: 0.9013 - val_loss: 0.3944 - val_accuracy: 0.8730\n",
      "Epoch 22/50\n",
      "100/100 [==============================] - 11s 110ms/step - loss: 0.2953 - accuracy: 0.9020 - val_loss: 0.3115 - val_accuracy: 0.8892\n",
      "Epoch 23/50\n",
      "100/100 [==============================] - 11s 111ms/step - loss: 0.2789 - accuracy: 0.9061 - val_loss: 0.3988 - val_accuracy: 0.8669\n",
      "Epoch 24/50\n",
      "100/100 [==============================] - 11s 107ms/step - loss: 0.3064 - accuracy: 0.8970 - val_loss: 0.4014 - val_accuracy: 0.8618\n",
      "Epoch 25/50\n",
      "100/100 [==============================] - 11s 110ms/step - loss: 0.2987 - accuracy: 0.9020 - val_loss: 0.4059 - val_accuracy: 0.8669\n",
      "Epoch 26/50\n",
      "100/100 [==============================] - 10s 101ms/step - loss: 0.2861 - accuracy: 0.9117 - val_loss: 0.3584 - val_accuracy: 0.8811\n",
      "Epoch 27/50\n",
      "100/100 [==============================] - 10s 100ms/step - loss: 0.2928 - accuracy: 0.9034 - val_loss: 0.3927 - val_accuracy: 0.8699\n",
      "Epoch 28/50\n",
      "100/100 [==============================] - 10s 99ms/step - loss: 0.2854 - accuracy: 0.9064 - val_loss: 0.3412 - val_accuracy: 0.8780\n",
      "Epoch 29/50\n",
      "100/100 [==============================] - 10s 103ms/step - loss: 0.3019 - accuracy: 0.9038 - val_loss: 0.3719 - val_accuracy: 0.8760\n",
      "Epoch 30/50\n",
      "100/100 [==============================] - 10s 99ms/step - loss: 0.2907 - accuracy: 0.9047 - val_loss: 0.3896 - val_accuracy: 0.8811\n",
      "Epoch 31/50\n",
      "100/100 [==============================] - 10s 105ms/step - loss: 0.2958 - accuracy: 0.9011 - val_loss: 0.3836 - val_accuracy: 0.8791\n",
      "Epoch 32/50\n",
      "100/100 [==============================] - 10s 102ms/step - loss: 0.2934 - accuracy: 0.9052 - val_loss: 0.3412 - val_accuracy: 0.8689\n",
      "Epoch 33/50\n",
      "100/100 [==============================] - 11s 109ms/step - loss: 0.2839 - accuracy: 0.9084 - val_loss: 0.4138 - val_accuracy: 0.8648\n",
      "Epoch 34/50\n",
      "100/100 [==============================] - 10s 100ms/step - loss: 0.2897 - accuracy: 0.9042 - val_loss: 0.3900 - val_accuracy: 0.8628\n",
      "Epoch 35/50\n",
      "100/100 [==============================] - 10s 102ms/step - loss: 0.2969 - accuracy: 0.9034 - val_loss: 0.3385 - val_accuracy: 0.8852\n",
      "Epoch 36/50\n",
      "100/100 [==============================] - 10s 102ms/step - loss: 0.2880 - accuracy: 0.9075 - val_loss: 0.3770 - val_accuracy: 0.8770\n",
      "Epoch 37/50\n",
      "100/100 [==============================] - 10s 104ms/step - loss: 0.2913 - accuracy: 0.9064 - val_loss: 0.3644 - val_accuracy: 0.8750\n",
      "Epoch 38/50\n",
      "100/100 [==============================] - 10s 101ms/step - loss: 0.2972 - accuracy: 0.9047 - val_loss: 0.3749 - val_accuracy: 0.8679\n",
      "Epoch 39/50\n",
      "100/100 [==============================] - 10s 104ms/step - loss: 0.2858 - accuracy: 0.9066 - val_loss: 0.4086 - val_accuracy: 0.8598\n",
      "Epoch 40/50\n",
      "100/100 [==============================] - 10s 102ms/step - loss: 0.3129 - accuracy: 0.9045 - val_loss: 0.3888 - val_accuracy: 0.8780\n",
      "Epoch 41/50\n",
      "100/100 [==============================] - 10s 102ms/step - loss: 0.2758 - accuracy: 0.9075 - val_loss: 0.3965 - val_accuracy: 0.8628\n",
      "Epoch 42/50\n",
      "100/100 [==============================] - 10s 101ms/step - loss: 0.2960 - accuracy: 0.9094 - val_loss: 0.4430 - val_accuracy: 0.8598\n",
      "Epoch 43/50\n",
      "100/100 [==============================] - 10s 101ms/step - loss: 0.3008 - accuracy: 0.9052 - val_loss: 0.3826 - val_accuracy: 0.8780\n",
      "Epoch 44/50\n",
      "100/100 [==============================] - 10s 100ms/step - loss: 0.3024 - accuracy: 0.9077 - val_loss: 0.4300 - val_accuracy: 0.8791\n",
      "Epoch 45/50\n",
      "100/100 [==============================] - 10s 102ms/step - loss: 0.2836 - accuracy: 0.9103 - val_loss: 0.3859 - val_accuracy: 0.8638\n",
      "Epoch 46/50\n",
      "100/100 [==============================] - 10s 102ms/step - loss: 0.2941 - accuracy: 0.9047 - val_loss: 0.4233 - val_accuracy: 0.8740\n",
      "Epoch 47/50\n",
      "100/100 [==============================] - 10s 102ms/step - loss: 0.2871 - accuracy: 0.9095 - val_loss: 0.3943 - val_accuracy: 0.8709\n",
      "Epoch 48/50\n",
      "100/100 [==============================] - 10s 104ms/step - loss: 0.2929 - accuracy: 0.9064 - val_loss: 0.3461 - val_accuracy: 0.8852\n",
      "Epoch 49/50\n",
      "100/100 [==============================] - 10s 104ms/step - loss: 0.2742 - accuracy: 0.9062 - val_loss: 0.3593 - val_accuracy: 0.8852\n",
      "Epoch 50/50\n",
      "100/100 [==============================] - 10s 103ms/step - loss: 0.2991 - accuracy: 0.9022 - val_loss: 0.3707 - val_accuracy: 0.8760\n"
     ]
    },
    {
     "data": {
      "text/plain": [
       "<tensorflow.python.keras.callbacks.History at 0x2a845f99588>"
      ]
     },
     "execution_count": 9,
     "metadata": {},
     "output_type": "execute_result"
    }
   ],
   "source": [
    "model.fit_generator(generator=training,steps_per_epoch=100,epochs=50,validation_data=testing,validation_steps=16)"
   ]
  },
  {
   "cell_type": "code",
   "execution_count": null,
   "metadata": {},
   "outputs": [],
   "source": [
    "model.save('model.h5')"
   ]
  }
 ],
 "metadata": {
  "kernelspec": {
   "display_name": "Python 3.7 (tensorflow)",
   "language": "python",
   "name": "tensorflow"
  },
  "language_info": {
   "codemirror_mode": {
    "name": "ipython",
    "version": 3
   },
   "file_extension": ".py",
   "mimetype": "text/x-python",
   "name": "python",
   "nbconvert_exporter": "python",
   "pygments_lexer": "ipython3",
   "version": "3.7.6"
  }
 },
 "nbformat": 4,
 "nbformat_minor": 4
}
